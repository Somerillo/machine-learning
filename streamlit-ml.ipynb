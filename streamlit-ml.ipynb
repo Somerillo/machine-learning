{
 "cells": [
  {
   "cell_type": "code",
   "execution_count": 1,
   "id": "76f1903f",
   "metadata": {
    "_cell_guid": "b1076dfc-b9ad-4769-8c92-a6c4dae69d19",
    "_uuid": "8f2839f25d086af736a60e9eeb907d3b93b6e0e5",
    "execution": {
     "iopub.execute_input": "2023-08-22T06:40:28.560797Z",
     "iopub.status.busy": "2023-08-22T06:40:28.560411Z",
     "iopub.status.idle": "2023-08-22T06:40:28.573442Z",
     "shell.execute_reply": "2023-08-22T06:40:28.572458Z"
    },
    "papermill": {
     "duration": 0.02137,
     "end_time": "2023-08-22T06:40:28.576118",
     "exception": false,
     "start_time": "2023-08-22T06:40:28.554748",
     "status": "completed"
    },
    "tags": []
   },
   "outputs": [],
   "source": [
    "# This Python 3 environment comes with many helpful analytics libraries installed\n",
    "# It is defined by the kaggle/python Docker image: https://github.com/kaggle/docker-python\n",
    "# For example, here's several helpful packages to load\n",
    "\n",
    "import numpy as np # linear algebra\n",
    "import pandas as pd # data processing, CSV file I/O (e.g. pd.read_csv)\n",
    "\n",
    "# Input data files are available in the read-only \"../input/\" directory\n",
    "# For example, running this (by clicking run or pressing Shift+Enter) will list all files under the input directory\n",
    "\n",
    "import os\n",
    "for dirname, _, filenames in os.walk('/kaggle/input'):\n",
    "    for filename in filenames:\n",
    "        print(os.path.join(dirname, filename))\n",
    "\n",
    "# You can write up to 20GB to the current directory (/kaggle/working/) that gets preserved as output when you create a version using \"Save & Run All\" \n",
    "# You can also write temporary files to /kaggle/temp/, but they won't be saved outside of the current session"
   ]
  },
  {
   "cell_type": "code",
   "execution_count": 2,
   "id": "e4f5e3e2",
   "metadata": {
    "execution": {
     "iopub.execute_input": "2023-08-22T06:40:28.584371Z",
     "iopub.status.busy": "2023-08-22T06:40:28.583995Z",
     "iopub.status.idle": "2023-08-22T06:40:47.555035Z",
     "shell.execute_reply": "2023-08-22T06:40:47.553725Z"
    },
    "papermill": {
     "duration": 18.978423,
     "end_time": "2023-08-22T06:40:47.557951",
     "exception": false,
     "start_time": "2023-08-22T06:40:28.579528",
     "status": "completed"
    },
    "tags": []
   },
   "outputs": [],
   "source": [
    "!pip install -q streamlit\n",
    "import streamlit as st"
   ]
  },
  {
   "cell_type": "code",
   "execution_count": 3,
   "id": "2f603f41",
   "metadata": {
    "execution": {
     "iopub.execute_input": "2023-08-22T06:40:47.566455Z",
     "iopub.status.busy": "2023-08-22T06:40:47.566047Z",
     "iopub.status.idle": "2023-08-22T06:40:47.574690Z",
     "shell.execute_reply": "2023-08-22T06:40:47.573518Z"
    },
    "papermill": {
     "duration": 0.015952,
     "end_time": "2023-08-22T06:40:47.577304",
     "exception": false,
     "start_time": "2023-08-22T06:40:47.561352",
     "status": "completed"
    },
    "tags": []
   },
   "outputs": [
    {
     "name": "stdout",
     "output_type": "stream",
     "text": [
      "Writing app.py\n"
     ]
    }
   ],
   "source": [
    "%%writefile app.py\n",
    "\n",
    "x = st.slider('Select a value')\n",
    "st.write(x, 'squared is', x * x)\n",
    "\n",
    "import yfinance as yf\n",
    "\n",
    "st.title(\"Stocks App\")\n",
    "symbol = st.text_input(\"Enter a stock symbol\", \"AAPL\")\n",
    "if st.button(\"Get Quote\"):\n",
    "    st.json(yf.Ticker(symbol).info)"
   ]
  },
  {
   "cell_type": "code",
   "execution_count": 4,
   "id": "2def00b7",
   "metadata": {
    "execution": {
     "iopub.execute_input": "2023-08-22T06:40:47.585666Z",
     "iopub.status.busy": "2023-08-22T06:40:47.585261Z",
     "iopub.status.idle": "2023-08-22T06:40:52.452215Z",
     "shell.execute_reply": "2023-08-22T06:40:52.450866Z"
    },
    "papermill": {
     "duration": 4.874664,
     "end_time": "2023-08-22T06:40:52.455244",
     "exception": false,
     "start_time": "2023-08-22T06:40:47.580580",
     "status": "completed"
    },
    "tags": []
   },
   "outputs": [
    {
     "name": "stdout",
     "output_type": "stream",
     "text": [
      "\u001b[K\u001b[?25h\r\n",
      "added 22 packages in 2s\r\n",
      "\r\n",
      "3 packages are looking for funding\r\n",
      "  run `npm fund` for details\r\n",
      "\u001b[37;40mnpm\u001b[0m \u001b[0m\u001b[36;40mnotice\u001b[0m\u001b[35m\u001b[0m \r\n",
      "\u001b[0m\u001b[37;40mnpm\u001b[0m \u001b[0m\u001b[36;40mnotice\u001b[0m\u001b[35m\u001b[0m New \u001b[33mminor\u001b[39m version of npm available! \u001b[31m9.5.0\u001b[39m -> \u001b[32m9.8.1\u001b[39m\r\n",
      "\u001b[0m\u001b[37;40mnpm\u001b[0m \u001b[0m\u001b[36;40mnotice\u001b[0m\u001b[35m\u001b[0m Changelog: \u001b[36mhttps://github.com/npm/cli/releases/tag/v9.8.1\u001b[39m\r\n",
      "\u001b[0m\u001b[37;40mnpm\u001b[0m \u001b[0m\u001b[36;40mnotice\u001b[0m\u001b[35m\u001b[0m Run \u001b[32mnpm install -g npm@9.8.1\u001b[39m to update!\r\n",
      "\u001b[0m\u001b[37;40mnpm\u001b[0m \u001b[0m\u001b[36;40mnotice\u001b[0m\u001b[35m\u001b[0m \r\n",
      "\u001b[0m"
     ]
    }
   ],
   "source": [
    "# instalamos el localtunnel\n",
    "!npm install localtunnel"
   ]
  },
  {
   "cell_type": "markdown",
   "id": "cfc0adba",
   "metadata": {
    "papermill": {
     "duration": 0.00635,
     "end_time": "2023-08-22T06:40:52.468065",
     "exception": false,
     "start_time": "2023-08-22T06:40:52.461715",
     "status": "completed"
    },
    "tags": []
   },
   "source": [
    "## Corremos streamlit en background"
   ]
  },
  {
   "cell_type": "code",
   "execution_count": 5,
   "id": "5d716f91",
   "metadata": {
    "execution": {
     "iopub.execute_input": "2023-08-22T06:40:52.483063Z",
     "iopub.status.busy": "2023-08-22T06:40:52.482592Z",
     "iopub.status.idle": "2023-08-22T06:40:52.957422Z",
     "shell.execute_reply": "2023-08-22T06:40:52.955805Z"
    },
    "papermill": {
     "duration": 0.485168,
     "end_time": "2023-08-22T06:40:52.959676",
     "exception": true,
     "start_time": "2023-08-22T06:40:52.474508",
     "status": "failed"
    },
    "tags": []
   },
   "outputs": [
    {
     "ename": "OSError",
     "evalue": "Background processes not supported.",
     "output_type": "error",
     "traceback": [
      "\u001b[0;31m---------------------------------------------------------------------------\u001b[0m",
      "\u001b[0;31mOSError\u001b[0m                                   Traceback (most recent call last)",
      "Cell \u001b[0;32mIn[5], line 1\u001b[0m\n\u001b[0;32m----> 1\u001b[0m \u001b[43mget_ipython\u001b[49m\u001b[43m(\u001b[49m\u001b[43m)\u001b[49m\u001b[38;5;241;43m.\u001b[39;49m\u001b[43msystem\u001b[49m\u001b[43m(\u001b[49m\u001b[38;5;124;43m'\u001b[39;49m\u001b[38;5;124;43mstreamlit run /content/app.py &>/content/logs.txt &\u001b[39;49m\u001b[38;5;124;43m'\u001b[39;49m\u001b[43m)\u001b[49m\n",
      "File \u001b[0;32m/opt/conda/lib/python3.10/site-packages/ipykernel/zmqshell.py:633\u001b[0m, in \u001b[0;36mZMQInteractiveShell.system_piped\u001b[0;34m(self, cmd)\u001b[0m\n\u001b[1;32m    626\u001b[0m \u001b[38;5;28;01mif\u001b[39;00m cmd\u001b[38;5;241m.\u001b[39mrstrip()\u001b[38;5;241m.\u001b[39mendswith(\u001b[38;5;124m\"\u001b[39m\u001b[38;5;124m&\u001b[39m\u001b[38;5;124m\"\u001b[39m):\n\u001b[1;32m    627\u001b[0m     \u001b[38;5;66;03m# this is *far* from a rigorous test\u001b[39;00m\n\u001b[1;32m    628\u001b[0m     \u001b[38;5;66;03m# We do not support backgrounding processes because we either use\u001b[39;00m\n\u001b[1;32m    629\u001b[0m     \u001b[38;5;66;03m# pexpect or pipes to read from.  Users can always just call\u001b[39;00m\n\u001b[1;32m    630\u001b[0m     \u001b[38;5;66;03m# os.system() or use ip.system=ip.system_raw\u001b[39;00m\n\u001b[1;32m    631\u001b[0m     \u001b[38;5;66;03m# if they really want a background process.\u001b[39;00m\n\u001b[1;32m    632\u001b[0m     msg \u001b[38;5;241m=\u001b[39m \u001b[38;5;124m\"\u001b[39m\u001b[38;5;124mBackground processes not supported.\u001b[39m\u001b[38;5;124m\"\u001b[39m\n\u001b[0;32m--> 633\u001b[0m     \u001b[38;5;28;01mraise\u001b[39;00m \u001b[38;5;167;01mOSError\u001b[39;00m(msg)\n\u001b[1;32m    635\u001b[0m \u001b[38;5;66;03m# we explicitly do NOT return the subprocess status code, because\u001b[39;00m\n\u001b[1;32m    636\u001b[0m \u001b[38;5;66;03m# a non-None value would trigger :func:`sys.displayhook` calls.\u001b[39;00m\n\u001b[1;32m    637\u001b[0m \u001b[38;5;66;03m# Instead, we store the exit_code in user_ns.\u001b[39;00m\n\u001b[1;32m    638\u001b[0m \u001b[38;5;66;03m# Also, protect system call from UNC paths on Windows here too\u001b[39;00m\n\u001b[1;32m    639\u001b[0m \u001b[38;5;66;03m# as is done in InteractiveShell.system_raw\u001b[39;00m\n\u001b[1;32m    640\u001b[0m \u001b[38;5;28;01mif\u001b[39;00m sys\u001b[38;5;241m.\u001b[39mplatform \u001b[38;5;241m==\u001b[39m \u001b[38;5;124m\"\u001b[39m\u001b[38;5;124mwin32\u001b[39m\u001b[38;5;124m\"\u001b[39m:\n",
      "\u001b[0;31mOSError\u001b[0m: Background processes not supported."
     ]
    }
   ],
   "source": [
    "!streamlit run /content/app.py &>/content/logs.txt &"
   ]
  },
  {
   "cell_type": "code",
   "execution_count": null,
   "id": "57cfadf0",
   "metadata": {
    "papermill": {
     "duration": null,
     "end_time": null,
     "exception": null,
     "start_time": null,
     "status": "pending"
    },
    "tags": []
   },
   "outputs": [],
   "source": []
  }
 ],
 "metadata": {
  "kernelspec": {
   "display_name": "Python 3",
   "language": "python",
   "name": "python3"
  },
  "language_info": {
   "codemirror_mode": {
    "name": "ipython",
    "version": 3
   },
   "file_extension": ".py",
   "mimetype": "text/x-python",
   "name": "python",
   "nbconvert_exporter": "python",
   "pygments_lexer": "ipython3",
   "version": "3.10.12"
  },
  "papermill": {
   "default_parameters": {},
   "duration": 38.155743,
   "end_time": "2023-08-22T06:40:54.090497",
   "environment_variables": {},
   "exception": true,
   "input_path": "__notebook__.ipynb",
   "output_path": "__notebook__.ipynb",
   "parameters": {},
   "start_time": "2023-08-22T06:40:15.934754",
   "version": "2.4.0"
  }
 },
 "nbformat": 4,
 "nbformat_minor": 5
}
